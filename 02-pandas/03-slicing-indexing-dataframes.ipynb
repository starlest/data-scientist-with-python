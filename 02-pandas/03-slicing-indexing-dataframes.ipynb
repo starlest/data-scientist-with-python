{
 "cells": [
  {
   "attachments": {},
   "cell_type": "markdown",
   "metadata": {},
   "source": [
    "# Explicit Indexes"
   ]
  },
  {
   "cell_type": "code",
   "execution_count": 2,
   "metadata": {},
   "outputs": [],
   "source": [
    "import pandas as pd\n",
    "\n",
    "dogs_dict = {\n",
    "    'breed': ['Labrador', 'Poodle', 'Chow Chow', 'Schnauzer', 'Labrador', 'Chihuahua', 'Poodle', 'Chihuahua', 'Labrador', 'Labrador'],\n",
    "    'color': ['Chocolate', 'White', 'Brown', 'Gray', 'Black', 'Brown', 'White', 'Black', 'Yellow', 'Black'],\n",
    "    'name': ['Buddy', 'Lucy', 'Cooper', 'Riley', 'Bear', 'Bella', 'Daisy', 'Lola', 'Max', 'Stella'],\n",
    "    'height_cm': [56, 43, 46, 49, 56, 18, 43, 18, 59, 56],\n",
    "    'weight_kg': [25, 6, 23, 17, 29, 2, 7, 2, 29, 29],\n",
    "    'date_of_birth': ['2013-07-01', '2016-10-11', '2011-10-12', '2014-09-01', '2017-01-20', '2015-04-20', '2017-01-20', '2015-08-25', '2017-01-20', '2017-10-05']\n",
    "}\n",
    "\n",
    "dogs = pd.DataFrame(dogs_dict)"
   ]
  },
  {
   "cell_type": "code",
   "execution_count": 3,
   "metadata": {},
   "outputs": [
    {
     "data": {
      "text/html": [
       "<div>\n",
       "<style scoped>\n",
       "    .dataframe tbody tr th:only-of-type {\n",
       "        vertical-align: middle;\n",
       "    }\n",
       "\n",
       "    .dataframe tbody tr th {\n",
       "        vertical-align: top;\n",
       "    }\n",
       "\n",
       "    .dataframe thead th {\n",
       "        text-align: right;\n",
       "    }\n",
       "</style>\n",
       "<table border=\"1\" class=\"dataframe\">\n",
       "  <thead>\n",
       "    <tr style=\"text-align: right;\">\n",
       "      <th></th>\n",
       "      <th>breed</th>\n",
       "      <th>color</th>\n",
       "      <th>name</th>\n",
       "      <th>height_cm</th>\n",
       "      <th>weight_kg</th>\n",
       "      <th>date_of_birth</th>\n",
       "    </tr>\n",
       "  </thead>\n",
       "  <tbody>\n",
       "    <tr>\n",
       "      <th>0</th>\n",
       "      <td>Labrador</td>\n",
       "      <td>Chocolate</td>\n",
       "      <td>Buddy</td>\n",
       "      <td>56</td>\n",
       "      <td>25</td>\n",
       "      <td>2013-07-01</td>\n",
       "    </tr>\n",
       "    <tr>\n",
       "      <th>1</th>\n",
       "      <td>Poodle</td>\n",
       "      <td>White</td>\n",
       "      <td>Lucy</td>\n",
       "      <td>43</td>\n",
       "      <td>6</td>\n",
       "      <td>2016-10-11</td>\n",
       "    </tr>\n",
       "    <tr>\n",
       "      <th>2</th>\n",
       "      <td>Chow Chow</td>\n",
       "      <td>Brown</td>\n",
       "      <td>Cooper</td>\n",
       "      <td>46</td>\n",
       "      <td>23</td>\n",
       "      <td>2011-10-12</td>\n",
       "    </tr>\n",
       "    <tr>\n",
       "      <th>3</th>\n",
       "      <td>Schnauzer</td>\n",
       "      <td>Gray</td>\n",
       "      <td>Riley</td>\n",
       "      <td>49</td>\n",
       "      <td>17</td>\n",
       "      <td>2014-09-01</td>\n",
       "    </tr>\n",
       "    <tr>\n",
       "      <th>4</th>\n",
       "      <td>Labrador</td>\n",
       "      <td>Black</td>\n",
       "      <td>Bear</td>\n",
       "      <td>56</td>\n",
       "      <td>29</td>\n",
       "      <td>2017-01-20</td>\n",
       "    </tr>\n",
       "  </tbody>\n",
       "</table>\n",
       "</div>"
      ],
      "text/plain": [
       "       breed      color    name  height_cm  weight_kg date_of_birth\n",
       "0   Labrador  Chocolate   Buddy         56         25    2013-07-01\n",
       "1     Poodle      White    Lucy         43          6    2016-10-11\n",
       "2  Chow Chow      Brown  Cooper         46         23    2011-10-12\n",
       "3  Schnauzer       Gray   Riley         49         17    2014-09-01\n",
       "4   Labrador      Black    Bear         56         29    2017-01-20"
      ]
     },
     "execution_count": 3,
     "metadata": {},
     "output_type": "execute_result"
    }
   ],
   "source": [
    "dogs.head()"
   ]
  },
  {
   "cell_type": "code",
   "execution_count": 4,
   "metadata": {},
   "outputs": [
    {
     "data": {
      "text/plain": [
       "Index(['breed', 'color', 'name', 'height_cm', 'weight_kg', 'date_of_birth'], dtype='object')"
      ]
     },
     "execution_count": 4,
     "metadata": {},
     "output_type": "execute_result"
    }
   ],
   "source": [
    "dogs.columns"
   ]
  },
  {
   "cell_type": "code",
   "execution_count": 5,
   "metadata": {},
   "outputs": [
    {
     "data": {
      "text/plain": [
       "RangeIndex(start=0, stop=10, step=1)"
      ]
     },
     "execution_count": 5,
     "metadata": {},
     "output_type": "execute_result"
    }
   ],
   "source": [
    "dogs.index"
   ]
  },
  {
   "cell_type": "code",
   "execution_count": 6,
   "metadata": {},
   "outputs": [
    {
     "name": "stdout",
     "output_type": "stream",
     "text": [
      "            breed      color  height_cm  weight_kg date_of_birth\n",
      "name                                                            \n",
      "Buddy    Labrador  Chocolate         56         25    2013-07-01\n",
      "Lucy       Poodle      White         43          6    2016-10-11\n",
      "Cooper  Chow Chow      Brown         46         23    2011-10-12\n",
      "Riley   Schnauzer       Gray         49         17    2014-09-01\n",
      "Bear     Labrador      Black         56         29    2017-01-20\n"
     ]
    }
   ],
   "source": [
    "dogs_ind = dogs.set_index('name')\n",
    "print(dogs_ind.head())"
   ]
  },
  {
   "cell_type": "code",
   "execution_count": 7,
   "metadata": {},
   "outputs": [
    {
     "data": {
      "text/html": [
       "<div>\n",
       "<style scoped>\n",
       "    .dataframe tbody tr th:only-of-type {\n",
       "        vertical-align: middle;\n",
       "    }\n",
       "\n",
       "    .dataframe tbody tr th {\n",
       "        vertical-align: top;\n",
       "    }\n",
       "\n",
       "    .dataframe thead th {\n",
       "        text-align: right;\n",
       "    }\n",
       "</style>\n",
       "<table border=\"1\" class=\"dataframe\">\n",
       "  <thead>\n",
       "    <tr style=\"text-align: right;\">\n",
       "      <th></th>\n",
       "      <th>name</th>\n",
       "      <th>breed</th>\n",
       "      <th>color</th>\n",
       "      <th>height_cm</th>\n",
       "      <th>weight_kg</th>\n",
       "      <th>date_of_birth</th>\n",
       "    </tr>\n",
       "  </thead>\n",
       "  <tbody>\n",
       "    <tr>\n",
       "      <th>0</th>\n",
       "      <td>Buddy</td>\n",
       "      <td>Labrador</td>\n",
       "      <td>Chocolate</td>\n",
       "      <td>56</td>\n",
       "      <td>25</td>\n",
       "      <td>2013-07-01</td>\n",
       "    </tr>\n",
       "    <tr>\n",
       "      <th>1</th>\n",
       "      <td>Lucy</td>\n",
       "      <td>Poodle</td>\n",
       "      <td>White</td>\n",
       "      <td>43</td>\n",
       "      <td>6</td>\n",
       "      <td>2016-10-11</td>\n",
       "    </tr>\n",
       "    <tr>\n",
       "      <th>2</th>\n",
       "      <td>Cooper</td>\n",
       "      <td>Chow Chow</td>\n",
       "      <td>Brown</td>\n",
       "      <td>46</td>\n",
       "      <td>23</td>\n",
       "      <td>2011-10-12</td>\n",
       "    </tr>\n",
       "    <tr>\n",
       "      <th>3</th>\n",
       "      <td>Riley</td>\n",
       "      <td>Schnauzer</td>\n",
       "      <td>Gray</td>\n",
       "      <td>49</td>\n",
       "      <td>17</td>\n",
       "      <td>2014-09-01</td>\n",
       "    </tr>\n",
       "    <tr>\n",
       "      <th>4</th>\n",
       "      <td>Bear</td>\n",
       "      <td>Labrador</td>\n",
       "      <td>Black</td>\n",
       "      <td>56</td>\n",
       "      <td>29</td>\n",
       "      <td>2017-01-20</td>\n",
       "    </tr>\n",
       "  </tbody>\n",
       "</table>\n",
       "</div>"
      ],
      "text/plain": [
       "     name      breed      color  height_cm  weight_kg date_of_birth\n",
       "0   Buddy   Labrador  Chocolate         56         25    2013-07-01\n",
       "1    Lucy     Poodle      White         43          6    2016-10-11\n",
       "2  Cooper  Chow Chow      Brown         46         23    2011-10-12\n",
       "3   Riley  Schnauzer       Gray         49         17    2014-09-01\n",
       "4    Bear   Labrador      Black         56         29    2017-01-20"
      ]
     },
     "execution_count": 7,
     "metadata": {},
     "output_type": "execute_result"
    }
   ],
   "source": [
    "dogs_ind.reset_index(drop=False, inplace=False).head()"
   ]
  },
  {
   "attachments": {},
   "cell_type": "markdown",
   "metadata": {},
   "source": [
    "## Indexes make subsetting simpler"
   ]
  },
  {
   "cell_type": "code",
   "execution_count": 8,
   "metadata": {},
   "outputs": [
    {
     "data": {
      "text/html": [
       "<div>\n",
       "<style scoped>\n",
       "    .dataframe tbody tr th:only-of-type {\n",
       "        vertical-align: middle;\n",
       "    }\n",
       "\n",
       "    .dataframe tbody tr th {\n",
       "        vertical-align: top;\n",
       "    }\n",
       "\n",
       "    .dataframe thead th {\n",
       "        text-align: right;\n",
       "    }\n",
       "</style>\n",
       "<table border=\"1\" class=\"dataframe\">\n",
       "  <thead>\n",
       "    <tr style=\"text-align: right;\">\n",
       "      <th></th>\n",
       "      <th>breed</th>\n",
       "      <th>color</th>\n",
       "      <th>name</th>\n",
       "      <th>height_cm</th>\n",
       "      <th>weight_kg</th>\n",
       "      <th>date_of_birth</th>\n",
       "    </tr>\n",
       "  </thead>\n",
       "  <tbody>\n",
       "    <tr>\n",
       "      <th>0</th>\n",
       "      <td>Labrador</td>\n",
       "      <td>Chocolate</td>\n",
       "      <td>Buddy</td>\n",
       "      <td>56</td>\n",
       "      <td>25</td>\n",
       "      <td>2013-07-01</td>\n",
       "    </tr>\n",
       "    <tr>\n",
       "      <th>4</th>\n",
       "      <td>Labrador</td>\n",
       "      <td>Black</td>\n",
       "      <td>Bear</td>\n",
       "      <td>56</td>\n",
       "      <td>29</td>\n",
       "      <td>2017-01-20</td>\n",
       "    </tr>\n",
       "  </tbody>\n",
       "</table>\n",
       "</div>"
      ],
      "text/plain": [
       "      breed      color   name  height_cm  weight_kg date_of_birth\n",
       "0  Labrador  Chocolate  Buddy         56         25    2013-07-01\n",
       "4  Labrador      Black   Bear         56         29    2017-01-20"
      ]
     },
     "execution_count": 8,
     "metadata": {},
     "output_type": "execute_result"
    }
   ],
   "source": [
    "dogs[dogs[\"name\"].isin([\"Buddy\", \"Bear\"])]"
   ]
  },
  {
   "cell_type": "code",
   "execution_count": 9,
   "metadata": {},
   "outputs": [
    {
     "data": {
      "text/html": [
       "<div>\n",
       "<style scoped>\n",
       "    .dataframe tbody tr th:only-of-type {\n",
       "        vertical-align: middle;\n",
       "    }\n",
       "\n",
       "    .dataframe tbody tr th {\n",
       "        vertical-align: top;\n",
       "    }\n",
       "\n",
       "    .dataframe thead th {\n",
       "        text-align: right;\n",
       "    }\n",
       "</style>\n",
       "<table border=\"1\" class=\"dataframe\">\n",
       "  <thead>\n",
       "    <tr style=\"text-align: right;\">\n",
       "      <th></th>\n",
       "      <th>breed</th>\n",
       "      <th>color</th>\n",
       "      <th>height_cm</th>\n",
       "      <th>weight_kg</th>\n",
       "      <th>date_of_birth</th>\n",
       "    </tr>\n",
       "    <tr>\n",
       "      <th>name</th>\n",
       "      <th></th>\n",
       "      <th></th>\n",
       "      <th></th>\n",
       "      <th></th>\n",
       "      <th></th>\n",
       "    </tr>\n",
       "  </thead>\n",
       "  <tbody>\n",
       "    <tr>\n",
       "      <th>Buddy</th>\n",
       "      <td>Labrador</td>\n",
       "      <td>Chocolate</td>\n",
       "      <td>56</td>\n",
       "      <td>25</td>\n",
       "      <td>2013-07-01</td>\n",
       "    </tr>\n",
       "    <tr>\n",
       "      <th>Bear</th>\n",
       "      <td>Labrador</td>\n",
       "      <td>Black</td>\n",
       "      <td>56</td>\n",
       "      <td>29</td>\n",
       "      <td>2017-01-20</td>\n",
       "    </tr>\n",
       "  </tbody>\n",
       "</table>\n",
       "</div>"
      ],
      "text/plain": [
       "          breed      color  height_cm  weight_kg date_of_birth\n",
       "name                                                          \n",
       "Buddy  Labrador  Chocolate         56         25    2013-07-01\n",
       "Bear   Labrador      Black         56         29    2017-01-20"
      ]
     },
     "execution_count": 9,
     "metadata": {},
     "output_type": "execute_result"
    }
   ],
   "source": [
    "dogs_ind.loc[[\"Buddy\", \"Bear\"]]"
   ]
  },
  {
   "cell_type": "code",
   "execution_count": 10,
   "metadata": {},
   "outputs": [
    {
     "name": "stdout",
     "output_type": "stream",
     "text": [
      "               color    name  height_cm  weight_kg date_of_birth\n",
      "breed                                                           \n",
      "Labrador   Chocolate   Buddy         56         25    2013-07-01\n",
      "Poodle         White    Lucy         43          6    2016-10-11\n",
      "Chow Chow      Brown  Cooper         46         23    2011-10-12\n",
      "Schnauzer       Gray   Riley         49         17    2014-09-01\n",
      "Labrador       Black    Bear         56         29    2017-01-20\n"
     ]
    }
   ],
   "source": [
    "dogs_ind2 = dogs.set_index(\"breed\")\n",
    "print(dogs_ind2.head())"
   ]
  },
  {
   "cell_type": "code",
   "execution_count": 11,
   "metadata": {},
   "outputs": [
    {
     "data": {
      "text/html": [
       "<div>\n",
       "<style scoped>\n",
       "    .dataframe tbody tr th:only-of-type {\n",
       "        vertical-align: middle;\n",
       "    }\n",
       "\n",
       "    .dataframe tbody tr th {\n",
       "        vertical-align: top;\n",
       "    }\n",
       "\n",
       "    .dataframe thead th {\n",
       "        text-align: right;\n",
       "    }\n",
       "</style>\n",
       "<table border=\"1\" class=\"dataframe\">\n",
       "  <thead>\n",
       "    <tr style=\"text-align: right;\">\n",
       "      <th></th>\n",
       "      <th>color</th>\n",
       "      <th>name</th>\n",
       "      <th>height_cm</th>\n",
       "      <th>weight_kg</th>\n",
       "      <th>date_of_birth</th>\n",
       "    </tr>\n",
       "    <tr>\n",
       "      <th>breed</th>\n",
       "      <th></th>\n",
       "      <th></th>\n",
       "      <th></th>\n",
       "      <th></th>\n",
       "      <th></th>\n",
       "    </tr>\n",
       "  </thead>\n",
       "  <tbody>\n",
       "    <tr>\n",
       "      <th>Labrador</th>\n",
       "      <td>Chocolate</td>\n",
       "      <td>Buddy</td>\n",
       "      <td>56</td>\n",
       "      <td>25</td>\n",
       "      <td>2013-07-01</td>\n",
       "    </tr>\n",
       "    <tr>\n",
       "      <th>Labrador</th>\n",
       "      <td>Black</td>\n",
       "      <td>Bear</td>\n",
       "      <td>56</td>\n",
       "      <td>29</td>\n",
       "      <td>2017-01-20</td>\n",
       "    </tr>\n",
       "    <tr>\n",
       "      <th>Labrador</th>\n",
       "      <td>Yellow</td>\n",
       "      <td>Max</td>\n",
       "      <td>59</td>\n",
       "      <td>29</td>\n",
       "      <td>2017-01-20</td>\n",
       "    </tr>\n",
       "    <tr>\n",
       "      <th>Labrador</th>\n",
       "      <td>Black</td>\n",
       "      <td>Stella</td>\n",
       "      <td>56</td>\n",
       "      <td>29</td>\n",
       "      <td>2017-10-05</td>\n",
       "    </tr>\n",
       "  </tbody>\n",
       "</table>\n",
       "</div>"
      ],
      "text/plain": [
       "              color    name  height_cm  weight_kg date_of_birth\n",
       "breed                                                          \n",
       "Labrador  Chocolate   Buddy         56         25    2013-07-01\n",
       "Labrador      Black    Bear         56         29    2017-01-20\n",
       "Labrador     Yellow     Max         59         29    2017-01-20\n",
       "Labrador      Black  Stella         56         29    2017-10-05"
      ]
     },
     "execution_count": 11,
     "metadata": {},
     "output_type": "execute_result"
    }
   ],
   "source": [
    "dogs_ind2.loc[\"Labrador\"]"
   ]
  },
  {
   "attachments": {},
   "cell_type": "markdown",
   "metadata": {},
   "source": [
    "## Multi-level indexes a.k.a. hierarchical indexes"
   ]
  },
  {
   "cell_type": "code",
   "execution_count": 12,
   "metadata": {},
   "outputs": [
    {
     "name": "stdout",
     "output_type": "stream",
     "text": [
      "                       name  height_cm  weight_kg date_of_birth\n",
      "breed     color                                                \n",
      "Labrador  Chocolate   Buddy         56         25    2013-07-01\n",
      "Poodle    White        Lucy         43          6    2016-10-11\n",
      "Chow Chow Brown      Cooper         46         23    2011-10-12\n",
      "Schnauzer Gray        Riley         49         17    2014-09-01\n",
      "Labrador  Black        Bear         56         29    2017-01-20\n"
     ]
    }
   ],
   "source": [
    "dogs_ind3 = dogs.set_index([\"breed\", \"color\"])\n",
    "print(dogs_ind3.head())"
   ]
  },
  {
   "attachments": {},
   "cell_type": "markdown",
   "metadata": {},
   "source": [
    "### Subset outer levels"
   ]
  },
  {
   "cell_type": "code",
   "execution_count": 13,
   "metadata": {},
   "outputs": [
    {
     "data": {
      "text/html": [
       "<div>\n",
       "<style scoped>\n",
       "    .dataframe tbody tr th:only-of-type {\n",
       "        vertical-align: middle;\n",
       "    }\n",
       "\n",
       "    .dataframe tbody tr th {\n",
       "        vertical-align: top;\n",
       "    }\n",
       "\n",
       "    .dataframe thead th {\n",
       "        text-align: right;\n",
       "    }\n",
       "</style>\n",
       "<table border=\"1\" class=\"dataframe\">\n",
       "  <thead>\n",
       "    <tr style=\"text-align: right;\">\n",
       "      <th></th>\n",
       "      <th></th>\n",
       "      <th>name</th>\n",
       "      <th>height_cm</th>\n",
       "      <th>weight_kg</th>\n",
       "      <th>date_of_birth</th>\n",
       "    </tr>\n",
       "    <tr>\n",
       "      <th>breed</th>\n",
       "      <th>color</th>\n",
       "      <th></th>\n",
       "      <th></th>\n",
       "      <th></th>\n",
       "      <th></th>\n",
       "    </tr>\n",
       "  </thead>\n",
       "  <tbody>\n",
       "    <tr>\n",
       "      <th rowspan=\"4\" valign=\"top\">Labrador</th>\n",
       "      <th>Chocolate</th>\n",
       "      <td>Buddy</td>\n",
       "      <td>56</td>\n",
       "      <td>25</td>\n",
       "      <td>2013-07-01</td>\n",
       "    </tr>\n",
       "    <tr>\n",
       "      <th>Black</th>\n",
       "      <td>Bear</td>\n",
       "      <td>56</td>\n",
       "      <td>29</td>\n",
       "      <td>2017-01-20</td>\n",
       "    </tr>\n",
       "    <tr>\n",
       "      <th>Yellow</th>\n",
       "      <td>Max</td>\n",
       "      <td>59</td>\n",
       "      <td>29</td>\n",
       "      <td>2017-01-20</td>\n",
       "    </tr>\n",
       "    <tr>\n",
       "      <th>Black</th>\n",
       "      <td>Stella</td>\n",
       "      <td>56</td>\n",
       "      <td>29</td>\n",
       "      <td>2017-10-05</td>\n",
       "    </tr>\n",
       "    <tr>\n",
       "      <th rowspan=\"2\" valign=\"top\">Chihuahua</th>\n",
       "      <th>Brown</th>\n",
       "      <td>Bella</td>\n",
       "      <td>18</td>\n",
       "      <td>2</td>\n",
       "      <td>2015-04-20</td>\n",
       "    </tr>\n",
       "    <tr>\n",
       "      <th>Black</th>\n",
       "      <td>Lola</td>\n",
       "      <td>18</td>\n",
       "      <td>2</td>\n",
       "      <td>2015-08-25</td>\n",
       "    </tr>\n",
       "  </tbody>\n",
       "</table>\n",
       "</div>"
      ],
      "text/plain": [
       "                       name  height_cm  weight_kg date_of_birth\n",
       "breed     color                                                \n",
       "Labrador  Chocolate   Buddy         56         25    2013-07-01\n",
       "          Black        Bear         56         29    2017-01-20\n",
       "          Yellow        Max         59         29    2017-01-20\n",
       "          Black      Stella         56         29    2017-10-05\n",
       "Chihuahua Brown       Bella         18          2    2015-04-20\n",
       "          Black        Lola         18          2    2015-08-25"
      ]
     },
     "execution_count": 13,
     "metadata": {},
     "output_type": "execute_result"
    }
   ],
   "source": [
    "dogs_ind3.loc[[\"Labrador\", \"Chihuahua\"]]"
   ]
  },
  {
   "attachments": {},
   "cell_type": "markdown",
   "metadata": {},
   "source": [
    "### Subset inner levels with a list of tuples"
   ]
  },
  {
   "cell_type": "code",
   "execution_count": 14,
   "metadata": {},
   "outputs": [
    {
     "data": {
      "text/html": [
       "<div>\n",
       "<style scoped>\n",
       "    .dataframe tbody tr th:only-of-type {\n",
       "        vertical-align: middle;\n",
       "    }\n",
       "\n",
       "    .dataframe tbody tr th {\n",
       "        vertical-align: top;\n",
       "    }\n",
       "\n",
       "    .dataframe thead th {\n",
       "        text-align: right;\n",
       "    }\n",
       "</style>\n",
       "<table border=\"1\" class=\"dataframe\">\n",
       "  <thead>\n",
       "    <tr style=\"text-align: right;\">\n",
       "      <th></th>\n",
       "      <th></th>\n",
       "      <th>name</th>\n",
       "      <th>height_cm</th>\n",
       "      <th>weight_kg</th>\n",
       "      <th>date_of_birth</th>\n",
       "    </tr>\n",
       "    <tr>\n",
       "      <th>breed</th>\n",
       "      <th>color</th>\n",
       "      <th></th>\n",
       "      <th></th>\n",
       "      <th></th>\n",
       "      <th></th>\n",
       "    </tr>\n",
       "  </thead>\n",
       "  <tbody>\n",
       "    <tr>\n",
       "      <th>Labrador</th>\n",
       "      <th>Chocolate</th>\n",
       "      <td>Buddy</td>\n",
       "      <td>56</td>\n",
       "      <td>25</td>\n",
       "      <td>2013-07-01</td>\n",
       "    </tr>\n",
       "    <tr>\n",
       "      <th>Chihuahua</th>\n",
       "      <th>Brown</th>\n",
       "      <td>Bella</td>\n",
       "      <td>18</td>\n",
       "      <td>2</td>\n",
       "      <td>2015-04-20</td>\n",
       "    </tr>\n",
       "  </tbody>\n",
       "</table>\n",
       "</div>"
      ],
      "text/plain": [
       "                      name  height_cm  weight_kg date_of_birth\n",
       "breed     color                                               \n",
       "Labrador  Chocolate  Buddy         56         25    2013-07-01\n",
       "Chihuahua Brown      Bella         18          2    2015-04-20"
      ]
     },
     "execution_count": 14,
     "metadata": {},
     "output_type": "execute_result"
    }
   ],
   "source": [
    "dogs_ind3.loc[[(\"Labrador\", \"Chocolate\"), (\"Chihuahua\", \"Brown\")]]"
   ]
  },
  {
   "attachments": {},
   "cell_type": "markdown",
   "metadata": {},
   "source": [
    "## Sorting by index values"
   ]
  },
  {
   "cell_type": "code",
   "execution_count": 15,
   "metadata": {},
   "outputs": [
    {
     "data": {
      "text/html": [
       "<div>\n",
       "<style scoped>\n",
       "    .dataframe tbody tr th:only-of-type {\n",
       "        vertical-align: middle;\n",
       "    }\n",
       "\n",
       "    .dataframe tbody tr th {\n",
       "        vertical-align: top;\n",
       "    }\n",
       "\n",
       "    .dataframe thead th {\n",
       "        text-align: right;\n",
       "    }\n",
       "</style>\n",
       "<table border=\"1\" class=\"dataframe\">\n",
       "  <thead>\n",
       "    <tr style=\"text-align: right;\">\n",
       "      <th></th>\n",
       "      <th></th>\n",
       "      <th>name</th>\n",
       "      <th>height_cm</th>\n",
       "      <th>weight_kg</th>\n",
       "      <th>date_of_birth</th>\n",
       "    </tr>\n",
       "    <tr>\n",
       "      <th>breed</th>\n",
       "      <th>color</th>\n",
       "      <th></th>\n",
       "      <th></th>\n",
       "      <th></th>\n",
       "      <th></th>\n",
       "    </tr>\n",
       "  </thead>\n",
       "  <tbody>\n",
       "    <tr>\n",
       "      <th rowspan=\"2\" valign=\"top\">Chihuahua</th>\n",
       "      <th>Black</th>\n",
       "      <td>Lola</td>\n",
       "      <td>18</td>\n",
       "      <td>2</td>\n",
       "      <td>2015-08-25</td>\n",
       "    </tr>\n",
       "    <tr>\n",
       "      <th>Brown</th>\n",
       "      <td>Bella</td>\n",
       "      <td>18</td>\n",
       "      <td>2</td>\n",
       "      <td>2015-04-20</td>\n",
       "    </tr>\n",
       "    <tr>\n",
       "      <th>Chow Chow</th>\n",
       "      <th>Brown</th>\n",
       "      <td>Cooper</td>\n",
       "      <td>46</td>\n",
       "      <td>23</td>\n",
       "      <td>2011-10-12</td>\n",
       "    </tr>\n",
       "    <tr>\n",
       "      <th rowspan=\"4\" valign=\"top\">Labrador</th>\n",
       "      <th>Black</th>\n",
       "      <td>Bear</td>\n",
       "      <td>56</td>\n",
       "      <td>29</td>\n",
       "      <td>2017-01-20</td>\n",
       "    </tr>\n",
       "    <tr>\n",
       "      <th>Black</th>\n",
       "      <td>Stella</td>\n",
       "      <td>56</td>\n",
       "      <td>29</td>\n",
       "      <td>2017-10-05</td>\n",
       "    </tr>\n",
       "    <tr>\n",
       "      <th>Chocolate</th>\n",
       "      <td>Buddy</td>\n",
       "      <td>56</td>\n",
       "      <td>25</td>\n",
       "      <td>2013-07-01</td>\n",
       "    </tr>\n",
       "    <tr>\n",
       "      <th>Yellow</th>\n",
       "      <td>Max</td>\n",
       "      <td>59</td>\n",
       "      <td>29</td>\n",
       "      <td>2017-01-20</td>\n",
       "    </tr>\n",
       "    <tr>\n",
       "      <th rowspan=\"2\" valign=\"top\">Poodle</th>\n",
       "      <th>White</th>\n",
       "      <td>Lucy</td>\n",
       "      <td>43</td>\n",
       "      <td>6</td>\n",
       "      <td>2016-10-11</td>\n",
       "    </tr>\n",
       "    <tr>\n",
       "      <th>White</th>\n",
       "      <td>Daisy</td>\n",
       "      <td>43</td>\n",
       "      <td>7</td>\n",
       "      <td>2017-01-20</td>\n",
       "    </tr>\n",
       "    <tr>\n",
       "      <th>Schnauzer</th>\n",
       "      <th>Gray</th>\n",
       "      <td>Riley</td>\n",
       "      <td>49</td>\n",
       "      <td>17</td>\n",
       "      <td>2014-09-01</td>\n",
       "    </tr>\n",
       "  </tbody>\n",
       "</table>\n",
       "</div>"
      ],
      "text/plain": [
       "                       name  height_cm  weight_kg date_of_birth\n",
       "breed     color                                                \n",
       "Chihuahua Black        Lola         18          2    2015-08-25\n",
       "          Brown       Bella         18          2    2015-04-20\n",
       "Chow Chow Brown      Cooper         46         23    2011-10-12\n",
       "Labrador  Black        Bear         56         29    2017-01-20\n",
       "          Black      Stella         56         29    2017-10-05\n",
       "          Chocolate   Buddy         56         25    2013-07-01\n",
       "          Yellow        Max         59         29    2017-01-20\n",
       "Poodle    White        Lucy         43          6    2016-10-11\n",
       "          White       Daisy         43          7    2017-01-20\n",
       "Schnauzer Gray        Riley         49         17    2014-09-01"
      ]
     },
     "execution_count": 15,
     "metadata": {},
     "output_type": "execute_result"
    }
   ],
   "source": [
    "dogs_ind3.sort_index()"
   ]
  },
  {
   "cell_type": "code",
   "execution_count": 16,
   "metadata": {},
   "outputs": [
    {
     "data": {
      "text/html": [
       "<div>\n",
       "<style scoped>\n",
       "    .dataframe tbody tr th:only-of-type {\n",
       "        vertical-align: middle;\n",
       "    }\n",
       "\n",
       "    .dataframe tbody tr th {\n",
       "        vertical-align: top;\n",
       "    }\n",
       "\n",
       "    .dataframe thead th {\n",
       "        text-align: right;\n",
       "    }\n",
       "</style>\n",
       "<table border=\"1\" class=\"dataframe\">\n",
       "  <thead>\n",
       "    <tr style=\"text-align: right;\">\n",
       "      <th></th>\n",
       "      <th></th>\n",
       "      <th>name</th>\n",
       "      <th>height_cm</th>\n",
       "      <th>weight_kg</th>\n",
       "      <th>date_of_birth</th>\n",
       "    </tr>\n",
       "    <tr>\n",
       "      <th>breed</th>\n",
       "      <th>color</th>\n",
       "      <th></th>\n",
       "      <th></th>\n",
       "      <th></th>\n",
       "      <th></th>\n",
       "    </tr>\n",
       "  </thead>\n",
       "  <tbody>\n",
       "    <tr>\n",
       "      <th rowspan=\"2\" valign=\"top\">Chihuahua</th>\n",
       "      <th>Brown</th>\n",
       "      <td>Bella</td>\n",
       "      <td>18</td>\n",
       "      <td>2</td>\n",
       "      <td>2015-04-20</td>\n",
       "    </tr>\n",
       "    <tr>\n",
       "      <th>Black</th>\n",
       "      <td>Lola</td>\n",
       "      <td>18</td>\n",
       "      <td>2</td>\n",
       "      <td>2015-08-25</td>\n",
       "    </tr>\n",
       "    <tr>\n",
       "      <th>Chow Chow</th>\n",
       "      <th>Brown</th>\n",
       "      <td>Cooper</td>\n",
       "      <td>46</td>\n",
       "      <td>23</td>\n",
       "      <td>2011-10-12</td>\n",
       "    </tr>\n",
       "    <tr>\n",
       "      <th rowspan=\"4\" valign=\"top\">Labrador</th>\n",
       "      <th>Yellow</th>\n",
       "      <td>Max</td>\n",
       "      <td>59</td>\n",
       "      <td>29</td>\n",
       "      <td>2017-01-20</td>\n",
       "    </tr>\n",
       "    <tr>\n",
       "      <th>Chocolate</th>\n",
       "      <td>Buddy</td>\n",
       "      <td>56</td>\n",
       "      <td>25</td>\n",
       "      <td>2013-07-01</td>\n",
       "    </tr>\n",
       "    <tr>\n",
       "      <th>Black</th>\n",
       "      <td>Bear</td>\n",
       "      <td>56</td>\n",
       "      <td>29</td>\n",
       "      <td>2017-01-20</td>\n",
       "    </tr>\n",
       "    <tr>\n",
       "      <th>Black</th>\n",
       "      <td>Stella</td>\n",
       "      <td>56</td>\n",
       "      <td>29</td>\n",
       "      <td>2017-10-05</td>\n",
       "    </tr>\n",
       "    <tr>\n",
       "      <th rowspan=\"2\" valign=\"top\">Poodle</th>\n",
       "      <th>White</th>\n",
       "      <td>Lucy</td>\n",
       "      <td>43</td>\n",
       "      <td>6</td>\n",
       "      <td>2016-10-11</td>\n",
       "    </tr>\n",
       "    <tr>\n",
       "      <th>White</th>\n",
       "      <td>Daisy</td>\n",
       "      <td>43</td>\n",
       "      <td>7</td>\n",
       "      <td>2017-01-20</td>\n",
       "    </tr>\n",
       "    <tr>\n",
       "      <th>Schnauzer</th>\n",
       "      <th>Gray</th>\n",
       "      <td>Riley</td>\n",
       "      <td>49</td>\n",
       "      <td>17</td>\n",
       "      <td>2014-09-01</td>\n",
       "    </tr>\n",
       "  </tbody>\n",
       "</table>\n",
       "</div>"
      ],
      "text/plain": [
       "                       name  height_cm  weight_kg date_of_birth\n",
       "breed     color                                                \n",
       "Chihuahua Brown       Bella         18          2    2015-04-20\n",
       "          Black        Lola         18          2    2015-08-25\n",
       "Chow Chow Brown      Cooper         46         23    2011-10-12\n",
       "Labrador  Yellow        Max         59         29    2017-01-20\n",
       "          Chocolate   Buddy         56         25    2013-07-01\n",
       "          Black        Bear         56         29    2017-01-20\n",
       "          Black      Stella         56         29    2017-10-05\n",
       "Poodle    White        Lucy         43          6    2016-10-11\n",
       "          White       Daisy         43          7    2017-01-20\n",
       "Schnauzer Gray        Riley         49         17    2014-09-01"
      ]
     },
     "execution_count": 16,
     "metadata": {},
     "output_type": "execute_result"
    }
   ],
   "source": [
    "dogs_ind3.sort_index(level=[\"breed\", \"color\"], ascending=[True, False])"
   ]
  },
  {
   "attachments": {},
   "cell_type": "markdown",
   "metadata": {},
   "source": [
    "# Slicing"
   ]
  },
  {
   "cell_type": "code",
   "execution_count": 17,
   "metadata": {},
   "outputs": [],
   "source": [
    "breeds = [\"Labrador\", \"Poodel\", \"Chow Chow\", \"Schnauzer\", \"Labrador\", \"Chihuahua\", \"St. Bernard\"]"
   ]
  },
  {
   "cell_type": "code",
   "execution_count": 18,
   "metadata": {},
   "outputs": [
    {
     "data": {
      "text/plain": [
       "['Chow Chow', 'Schnauzer', 'Labrador']"
      ]
     },
     "execution_count": 18,
     "metadata": {},
     "output_type": "execute_result"
    }
   ],
   "source": [
    "breeds[2:5]"
   ]
  },
  {
   "cell_type": "code",
   "execution_count": 19,
   "metadata": {},
   "outputs": [
    {
     "data": {
      "text/plain": [
       "['Labrador', 'Poodel', 'Chow Chow']"
      ]
     },
     "execution_count": 19,
     "metadata": {},
     "output_type": "execute_result"
    }
   ],
   "source": [
    "breeds[:3]"
   ]
  },
  {
   "cell_type": "code",
   "execution_count": 20,
   "metadata": {},
   "outputs": [
    {
     "data": {
      "text/plain": [
       "['Labrador',\n",
       " 'Poodel',\n",
       " 'Chow Chow',\n",
       " 'Schnauzer',\n",
       " 'Labrador',\n",
       " 'Chihuahua',\n",
       " 'St. Bernard']"
      ]
     },
     "execution_count": 20,
     "metadata": {},
     "output_type": "execute_result"
    }
   ],
   "source": [
    "breeds[:]"
   ]
  },
  {
   "attachments": {},
   "cell_type": "markdown",
   "metadata": {},
   "source": [
    "## Slicing the outer index level"
   ]
  },
  {
   "cell_type": "code",
   "execution_count": 21,
   "metadata": {},
   "outputs": [
    {
     "name": "stdout",
     "output_type": "stream",
     "text": [
      "                       name  height_cm  weight_kg date_of_birth\n",
      "breed     color                                                \n",
      "Chihuahua Black        Lola         18          2    2015-08-25\n",
      "          Brown       Bella         18          2    2015-04-20\n",
      "Chow Chow Brown      Cooper         46         23    2011-10-12\n",
      "Labrador  Black        Bear         56         29    2017-01-20\n",
      "          Black      Stella         56         29    2017-10-05\n",
      "          Chocolate   Buddy         56         25    2013-07-01\n",
      "          Yellow        Max         59         29    2017-01-20\n",
      "Poodle    White        Lucy         43          6    2016-10-11\n",
      "          White       Daisy         43          7    2017-01-20\n",
      "Schnauzer Gray        Riley         49         17    2014-09-01\n"
     ]
    }
   ],
   "source": [
    "dogs_srt = dogs.set_index([\"breed\", \"color\"]).sort_index()\n",
    "print(dogs_srt)"
   ]
  },
  {
   "cell_type": "code",
   "execution_count": 22,
   "metadata": {},
   "outputs": [
    {
     "data": {
      "text/html": [
       "<div>\n",
       "<style scoped>\n",
       "    .dataframe tbody tr th:only-of-type {\n",
       "        vertical-align: middle;\n",
       "    }\n",
       "\n",
       "    .dataframe tbody tr th {\n",
       "        vertical-align: top;\n",
       "    }\n",
       "\n",
       "    .dataframe thead th {\n",
       "        text-align: right;\n",
       "    }\n",
       "</style>\n",
       "<table border=\"1\" class=\"dataframe\">\n",
       "  <thead>\n",
       "    <tr style=\"text-align: right;\">\n",
       "      <th></th>\n",
       "      <th></th>\n",
       "      <th>name</th>\n",
       "      <th>height_cm</th>\n",
       "      <th>weight_kg</th>\n",
       "      <th>date_of_birth</th>\n",
       "    </tr>\n",
       "    <tr>\n",
       "      <th>breed</th>\n",
       "      <th>color</th>\n",
       "      <th></th>\n",
       "      <th></th>\n",
       "      <th></th>\n",
       "      <th></th>\n",
       "    </tr>\n",
       "  </thead>\n",
       "  <tbody>\n",
       "    <tr>\n",
       "      <th>Chow Chow</th>\n",
       "      <th>Brown</th>\n",
       "      <td>Cooper</td>\n",
       "      <td>46</td>\n",
       "      <td>23</td>\n",
       "      <td>2011-10-12</td>\n",
       "    </tr>\n",
       "    <tr>\n",
       "      <th rowspan=\"4\" valign=\"top\">Labrador</th>\n",
       "      <th>Black</th>\n",
       "      <td>Bear</td>\n",
       "      <td>56</td>\n",
       "      <td>29</td>\n",
       "      <td>2017-01-20</td>\n",
       "    </tr>\n",
       "    <tr>\n",
       "      <th>Black</th>\n",
       "      <td>Stella</td>\n",
       "      <td>56</td>\n",
       "      <td>29</td>\n",
       "      <td>2017-10-05</td>\n",
       "    </tr>\n",
       "    <tr>\n",
       "      <th>Chocolate</th>\n",
       "      <td>Buddy</td>\n",
       "      <td>56</td>\n",
       "      <td>25</td>\n",
       "      <td>2013-07-01</td>\n",
       "    </tr>\n",
       "    <tr>\n",
       "      <th>Yellow</th>\n",
       "      <td>Max</td>\n",
       "      <td>59</td>\n",
       "      <td>29</td>\n",
       "      <td>2017-01-20</td>\n",
       "    </tr>\n",
       "    <tr>\n",
       "      <th rowspan=\"2\" valign=\"top\">Poodle</th>\n",
       "      <th>White</th>\n",
       "      <td>Lucy</td>\n",
       "      <td>43</td>\n",
       "      <td>6</td>\n",
       "      <td>2016-10-11</td>\n",
       "    </tr>\n",
       "    <tr>\n",
       "      <th>White</th>\n",
       "      <td>Daisy</td>\n",
       "      <td>43</td>\n",
       "      <td>7</td>\n",
       "      <td>2017-01-20</td>\n",
       "    </tr>\n",
       "    <tr>\n",
       "      <th>Schnauzer</th>\n",
       "      <th>Gray</th>\n",
       "      <td>Riley</td>\n",
       "      <td>49</td>\n",
       "      <td>17</td>\n",
       "      <td>2014-09-01</td>\n",
       "    </tr>\n",
       "  </tbody>\n",
       "</table>\n",
       "</div>"
      ],
      "text/plain": [
       "                       name  height_cm  weight_kg date_of_birth\n",
       "breed     color                                                \n",
       "Chow Chow Brown      Cooper         46         23    2011-10-12\n",
       "Labrador  Black        Bear         56         29    2017-01-20\n",
       "          Black      Stella         56         29    2017-10-05\n",
       "          Chocolate   Buddy         56         25    2013-07-01\n",
       "          Yellow        Max         59         29    2017-01-20\n",
       "Poodle    White        Lucy         43          6    2016-10-11\n",
       "          White       Daisy         43          7    2017-01-20\n",
       "Schnauzer Gray        Riley         49         17    2014-09-01"
      ]
     },
     "execution_count": 22,
     "metadata": {},
     "output_type": "execute_result"
    }
   ],
   "source": [
    "dogs_srt.loc[\"Chow Chow\":\"Schnauzer\"]"
   ]
  },
  {
   "attachments": {},
   "cell_type": "markdown",
   "metadata": {},
   "source": [
    "## Slicing the inner index level"
   ]
  },
  {
   "cell_type": "code",
   "execution_count": 23,
   "metadata": {},
   "outputs": [
    {
     "data": {
      "text/html": [
       "<div>\n",
       "<style scoped>\n",
       "    .dataframe tbody tr th:only-of-type {\n",
       "        vertical-align: middle;\n",
       "    }\n",
       "\n",
       "    .dataframe tbody tr th {\n",
       "        vertical-align: top;\n",
       "    }\n",
       "\n",
       "    .dataframe thead th {\n",
       "        text-align: right;\n",
       "    }\n",
       "</style>\n",
       "<table border=\"1\" class=\"dataframe\">\n",
       "  <thead>\n",
       "    <tr style=\"text-align: right;\">\n",
       "      <th></th>\n",
       "      <th></th>\n",
       "      <th>name</th>\n",
       "      <th>height_cm</th>\n",
       "      <th>weight_kg</th>\n",
       "      <th>date_of_birth</th>\n",
       "    </tr>\n",
       "    <tr>\n",
       "      <th>breed</th>\n",
       "      <th>color</th>\n",
       "      <th></th>\n",
       "      <th></th>\n",
       "      <th></th>\n",
       "      <th></th>\n",
       "    </tr>\n",
       "  </thead>\n",
       "  <tbody>\n",
       "    <tr>\n",
       "      <th>Chow Chow</th>\n",
       "      <th>Brown</th>\n",
       "      <td>Cooper</td>\n",
       "      <td>46</td>\n",
       "      <td>23</td>\n",
       "      <td>2011-10-12</td>\n",
       "    </tr>\n",
       "    <tr>\n",
       "      <th rowspan=\"4\" valign=\"top\">Labrador</th>\n",
       "      <th>Black</th>\n",
       "      <td>Bear</td>\n",
       "      <td>56</td>\n",
       "      <td>29</td>\n",
       "      <td>2017-01-20</td>\n",
       "    </tr>\n",
       "    <tr>\n",
       "      <th>Black</th>\n",
       "      <td>Stella</td>\n",
       "      <td>56</td>\n",
       "      <td>29</td>\n",
       "      <td>2017-10-05</td>\n",
       "    </tr>\n",
       "    <tr>\n",
       "      <th>Chocolate</th>\n",
       "      <td>Buddy</td>\n",
       "      <td>56</td>\n",
       "      <td>25</td>\n",
       "      <td>2013-07-01</td>\n",
       "    </tr>\n",
       "    <tr>\n",
       "      <th>Yellow</th>\n",
       "      <td>Max</td>\n",
       "      <td>59</td>\n",
       "      <td>29</td>\n",
       "      <td>2017-01-20</td>\n",
       "    </tr>\n",
       "    <tr>\n",
       "      <th rowspan=\"2\" valign=\"top\">Poodle</th>\n",
       "      <th>White</th>\n",
       "      <td>Lucy</td>\n",
       "      <td>43</td>\n",
       "      <td>6</td>\n",
       "      <td>2016-10-11</td>\n",
       "    </tr>\n",
       "    <tr>\n",
       "      <th>White</th>\n",
       "      <td>Daisy</td>\n",
       "      <td>43</td>\n",
       "      <td>7</td>\n",
       "      <td>2017-01-20</td>\n",
       "    </tr>\n",
       "  </tbody>\n",
       "</table>\n",
       "</div>"
      ],
      "text/plain": [
       "                       name  height_cm  weight_kg date_of_birth\n",
       "breed     color                                                \n",
       "Chow Chow Brown      Cooper         46         23    2011-10-12\n",
       "Labrador  Black        Bear         56         29    2017-01-20\n",
       "          Black      Stella         56         29    2017-10-05\n",
       "          Chocolate   Buddy         56         25    2013-07-01\n",
       "          Yellow        Max         59         29    2017-01-20\n",
       "Poodle    White        Lucy         43          6    2016-10-11\n",
       "          White       Daisy         43          7    2017-01-20"
      ]
     },
     "execution_count": 23,
     "metadata": {},
     "output_type": "execute_result"
    }
   ],
   "source": [
    "dogs_srt.loc[(\"Chow Chow\", \"Brown\"):(\"Poodle\", \"White\")]"
   ]
  },
  {
   "attachments": {},
   "cell_type": "markdown",
   "metadata": {},
   "source": [
    "## Slicing columns"
   ]
  },
  {
   "cell_type": "code",
   "execution_count": 24,
   "metadata": {},
   "outputs": [
    {
     "data": {
      "text/html": [
       "<div>\n",
       "<style scoped>\n",
       "    .dataframe tbody tr th:only-of-type {\n",
       "        vertical-align: middle;\n",
       "    }\n",
       "\n",
       "    .dataframe tbody tr th {\n",
       "        vertical-align: top;\n",
       "    }\n",
       "\n",
       "    .dataframe thead th {\n",
       "        text-align: right;\n",
       "    }\n",
       "</style>\n",
       "<table border=\"1\" class=\"dataframe\">\n",
       "  <thead>\n",
       "    <tr style=\"text-align: right;\">\n",
       "      <th></th>\n",
       "      <th></th>\n",
       "      <th>name</th>\n",
       "      <th>height_cm</th>\n",
       "    </tr>\n",
       "    <tr>\n",
       "      <th>breed</th>\n",
       "      <th>color</th>\n",
       "      <th></th>\n",
       "      <th></th>\n",
       "    </tr>\n",
       "  </thead>\n",
       "  <tbody>\n",
       "    <tr>\n",
       "      <th rowspan=\"2\" valign=\"top\">Chihuahua</th>\n",
       "      <th>Black</th>\n",
       "      <td>Lola</td>\n",
       "      <td>18</td>\n",
       "    </tr>\n",
       "    <tr>\n",
       "      <th>Brown</th>\n",
       "      <td>Bella</td>\n",
       "      <td>18</td>\n",
       "    </tr>\n",
       "    <tr>\n",
       "      <th>Chow Chow</th>\n",
       "      <th>Brown</th>\n",
       "      <td>Cooper</td>\n",
       "      <td>46</td>\n",
       "    </tr>\n",
       "    <tr>\n",
       "      <th rowspan=\"4\" valign=\"top\">Labrador</th>\n",
       "      <th>Black</th>\n",
       "      <td>Bear</td>\n",
       "      <td>56</td>\n",
       "    </tr>\n",
       "    <tr>\n",
       "      <th>Black</th>\n",
       "      <td>Stella</td>\n",
       "      <td>56</td>\n",
       "    </tr>\n",
       "    <tr>\n",
       "      <th>Chocolate</th>\n",
       "      <td>Buddy</td>\n",
       "      <td>56</td>\n",
       "    </tr>\n",
       "    <tr>\n",
       "      <th>Yellow</th>\n",
       "      <td>Max</td>\n",
       "      <td>59</td>\n",
       "    </tr>\n",
       "    <tr>\n",
       "      <th rowspan=\"2\" valign=\"top\">Poodle</th>\n",
       "      <th>White</th>\n",
       "      <td>Lucy</td>\n",
       "      <td>43</td>\n",
       "    </tr>\n",
       "    <tr>\n",
       "      <th>White</th>\n",
       "      <td>Daisy</td>\n",
       "      <td>43</td>\n",
       "    </tr>\n",
       "    <tr>\n",
       "      <th>Schnauzer</th>\n",
       "      <th>Gray</th>\n",
       "      <td>Riley</td>\n",
       "      <td>49</td>\n",
       "    </tr>\n",
       "  </tbody>\n",
       "</table>\n",
       "</div>"
      ],
      "text/plain": [
       "                       name  height_cm\n",
       "breed     color                       \n",
       "Chihuahua Black        Lola         18\n",
       "          Brown       Bella         18\n",
       "Chow Chow Brown      Cooper         46\n",
       "Labrador  Black        Bear         56\n",
       "          Black      Stella         56\n",
       "          Chocolate   Buddy         56\n",
       "          Yellow        Max         59\n",
       "Poodle    White        Lucy         43\n",
       "          White       Daisy         43\n",
       "Schnauzer Gray        Riley         49"
      ]
     },
     "execution_count": 24,
     "metadata": {},
     "output_type": "execute_result"
    }
   ],
   "source": [
    "dogs_srt.loc[:, \"name\":\"height_cm\"]"
   ]
  },
  {
   "attachments": {},
   "cell_type": "markdown",
   "metadata": {},
   "source": [
    "## Slicing All"
   ]
  },
  {
   "cell_type": "code",
   "execution_count": 25,
   "metadata": {},
   "outputs": [
    {
     "data": {
      "text/html": [
       "<div>\n",
       "<style scoped>\n",
       "    .dataframe tbody tr th:only-of-type {\n",
       "        vertical-align: middle;\n",
       "    }\n",
       "\n",
       "    .dataframe tbody tr th {\n",
       "        vertical-align: top;\n",
       "    }\n",
       "\n",
       "    .dataframe thead th {\n",
       "        text-align: right;\n",
       "    }\n",
       "</style>\n",
       "<table border=\"1\" class=\"dataframe\">\n",
       "  <thead>\n",
       "    <tr style=\"text-align: right;\">\n",
       "      <th></th>\n",
       "      <th></th>\n",
       "      <th>name</th>\n",
       "      <th>height_cm</th>\n",
       "    </tr>\n",
       "    <tr>\n",
       "      <th>breed</th>\n",
       "      <th>color</th>\n",
       "      <th></th>\n",
       "      <th></th>\n",
       "    </tr>\n",
       "  </thead>\n",
       "  <tbody>\n",
       "    <tr>\n",
       "      <th>Chow Chow</th>\n",
       "      <th>Brown</th>\n",
       "      <td>Cooper</td>\n",
       "      <td>46</td>\n",
       "    </tr>\n",
       "    <tr>\n",
       "      <th rowspan=\"4\" valign=\"top\">Labrador</th>\n",
       "      <th>Black</th>\n",
       "      <td>Bear</td>\n",
       "      <td>56</td>\n",
       "    </tr>\n",
       "    <tr>\n",
       "      <th>Black</th>\n",
       "      <td>Stella</td>\n",
       "      <td>56</td>\n",
       "    </tr>\n",
       "    <tr>\n",
       "      <th>Chocolate</th>\n",
       "      <td>Buddy</td>\n",
       "      <td>56</td>\n",
       "    </tr>\n",
       "    <tr>\n",
       "      <th>Yellow</th>\n",
       "      <td>Max</td>\n",
       "      <td>59</td>\n",
       "    </tr>\n",
       "    <tr>\n",
       "      <th rowspan=\"2\" valign=\"top\">Poodle</th>\n",
       "      <th>White</th>\n",
       "      <td>Lucy</td>\n",
       "      <td>43</td>\n",
       "    </tr>\n",
       "    <tr>\n",
       "      <th>White</th>\n",
       "      <td>Daisy</td>\n",
       "      <td>43</td>\n",
       "    </tr>\n",
       "  </tbody>\n",
       "</table>\n",
       "</div>"
      ],
      "text/plain": [
       "                       name  height_cm\n",
       "breed     color                       \n",
       "Chow Chow Brown      Cooper         46\n",
       "Labrador  Black        Bear         56\n",
       "          Black      Stella         56\n",
       "          Chocolate   Buddy         56\n",
       "          Yellow        Max         59\n",
       "Poodle    White        Lucy         43\n",
       "          White       Daisy         43"
      ]
     },
     "execution_count": 25,
     "metadata": {},
     "output_type": "execute_result"
    }
   ],
   "source": [
    "dogs_srt.loc[(\"Chow Chow\", \"Brown\"):(\"Poodle\", \"White\"), \"name\":\"height_cm\"]"
   ]
  },
  {
   "attachments": {},
   "cell_type": "markdown",
   "metadata": {},
   "source": [
    "## Slicing by Dates"
   ]
  },
  {
   "cell_type": "code",
   "execution_count": 26,
   "metadata": {},
   "outputs": [
    {
     "name": "stdout",
     "output_type": "stream",
     "text": [
      "                   breed      color    name  height_cm  weight_kg\n",
      "date_of_birth                                                    \n",
      "2011-10-12     Chow Chow      Brown  Cooper         46         23\n",
      "2013-07-01      Labrador  Chocolate   Buddy         56         25\n",
      "2014-09-01     Schnauzer       Gray   Riley         49         17\n",
      "2015-04-20     Chihuahua      Brown   Bella         18          2\n",
      "2015-08-25     Chihuahua      Black    Lola         18          2\n"
     ]
    }
   ],
   "source": [
    "dogs = dogs.set_index(\"date_of_birth\").sort_index()\n",
    "print(dogs.head())"
   ]
  },
  {
   "cell_type": "code",
   "execution_count": 27,
   "metadata": {},
   "outputs": [
    {
     "data": {
      "text/html": [
       "<div>\n",
       "<style scoped>\n",
       "    .dataframe tbody tr th:only-of-type {\n",
       "        vertical-align: middle;\n",
       "    }\n",
       "\n",
       "    .dataframe tbody tr th {\n",
       "        vertical-align: top;\n",
       "    }\n",
       "\n",
       "    .dataframe thead th {\n",
       "        text-align: right;\n",
       "    }\n",
       "</style>\n",
       "<table border=\"1\" class=\"dataframe\">\n",
       "  <thead>\n",
       "    <tr style=\"text-align: right;\">\n",
       "      <th></th>\n",
       "      <th>breed</th>\n",
       "      <th>color</th>\n",
       "      <th>name</th>\n",
       "      <th>height_cm</th>\n",
       "      <th>weight_kg</th>\n",
       "    </tr>\n",
       "    <tr>\n",
       "      <th>date_of_birth</th>\n",
       "      <th></th>\n",
       "      <th></th>\n",
       "      <th></th>\n",
       "      <th></th>\n",
       "      <th></th>\n",
       "    </tr>\n",
       "  </thead>\n",
       "  <tbody>\n",
       "    <tr>\n",
       "      <th>2014-09-01</th>\n",
       "      <td>Schnauzer</td>\n",
       "      <td>Gray</td>\n",
       "      <td>Riley</td>\n",
       "      <td>49</td>\n",
       "      <td>17</td>\n",
       "    </tr>\n",
       "    <tr>\n",
       "      <th>2015-04-20</th>\n",
       "      <td>Chihuahua</td>\n",
       "      <td>Brown</td>\n",
       "      <td>Bella</td>\n",
       "      <td>18</td>\n",
       "      <td>2</td>\n",
       "    </tr>\n",
       "    <tr>\n",
       "      <th>2015-08-25</th>\n",
       "      <td>Chihuahua</td>\n",
       "      <td>Black</td>\n",
       "      <td>Lola</td>\n",
       "      <td>18</td>\n",
       "      <td>2</td>\n",
       "    </tr>\n",
       "    <tr>\n",
       "      <th>2016-10-11</th>\n",
       "      <td>Poodle</td>\n",
       "      <td>White</td>\n",
       "      <td>Lucy</td>\n",
       "      <td>43</td>\n",
       "      <td>6</td>\n",
       "    </tr>\n",
       "  </tbody>\n",
       "</table>\n",
       "</div>"
      ],
      "text/plain": [
       "                   breed  color   name  height_cm  weight_kg\n",
       "date_of_birth                                               \n",
       "2014-09-01     Schnauzer   Gray  Riley         49         17\n",
       "2015-04-20     Chihuahua  Brown  Bella         18          2\n",
       "2015-08-25     Chihuahua  Black   Lola         18          2\n",
       "2016-10-11        Poodle  White   Lucy         43          6"
      ]
     },
     "execution_count": 27,
     "metadata": {},
     "output_type": "execute_result"
    }
   ],
   "source": [
    "dogs.loc[\"2014-09-01\":\"2016-10-11\"]"
   ]
  },
  {
   "cell_type": "code",
   "execution_count": 28,
   "metadata": {},
   "outputs": [
    {
     "data": {
      "text/html": [
       "<div>\n",
       "<style scoped>\n",
       "    .dataframe tbody tr th:only-of-type {\n",
       "        vertical-align: middle;\n",
       "    }\n",
       "\n",
       "    .dataframe tbody tr th {\n",
       "        vertical-align: top;\n",
       "    }\n",
       "\n",
       "    .dataframe thead th {\n",
       "        text-align: right;\n",
       "    }\n",
       "</style>\n",
       "<table border=\"1\" class=\"dataframe\">\n",
       "  <thead>\n",
       "    <tr style=\"text-align: right;\">\n",
       "      <th></th>\n",
       "      <th>breed</th>\n",
       "      <th>color</th>\n",
       "      <th>name</th>\n",
       "      <th>height_cm</th>\n",
       "      <th>weight_kg</th>\n",
       "    </tr>\n",
       "    <tr>\n",
       "      <th>date_of_birth</th>\n",
       "      <th></th>\n",
       "      <th></th>\n",
       "      <th></th>\n",
       "      <th></th>\n",
       "      <th></th>\n",
       "    </tr>\n",
       "  </thead>\n",
       "  <tbody>\n",
       "    <tr>\n",
       "      <th>2014-09-01</th>\n",
       "      <td>Schnauzer</td>\n",
       "      <td>Gray</td>\n",
       "      <td>Riley</td>\n",
       "      <td>49</td>\n",
       "      <td>17</td>\n",
       "    </tr>\n",
       "    <tr>\n",
       "      <th>2015-04-20</th>\n",
       "      <td>Chihuahua</td>\n",
       "      <td>Brown</td>\n",
       "      <td>Bella</td>\n",
       "      <td>18</td>\n",
       "      <td>2</td>\n",
       "    </tr>\n",
       "    <tr>\n",
       "      <th>2015-08-25</th>\n",
       "      <td>Chihuahua</td>\n",
       "      <td>Black</td>\n",
       "      <td>Lola</td>\n",
       "      <td>18</td>\n",
       "      <td>2</td>\n",
       "    </tr>\n",
       "  </tbody>\n",
       "</table>\n",
       "</div>"
      ],
      "text/plain": [
       "                   breed  color   name  height_cm  weight_kg\n",
       "date_of_birth                                               \n",
       "2014-09-01     Schnauzer   Gray  Riley         49         17\n",
       "2015-04-20     Chihuahua  Brown  Bella         18          2\n",
       "2015-08-25     Chihuahua  Black   Lola         18          2"
      ]
     },
     "execution_count": 28,
     "metadata": {},
     "output_type": "execute_result"
    }
   ],
   "source": [
    "dogs.loc[\"2014\":\"2016\"]"
   ]
  },
  {
   "attachments": {},
   "cell_type": "markdown",
   "metadata": {},
   "source": [
    "## Subsetting by row/column number"
   ]
  },
  {
   "cell_type": "code",
   "execution_count": 29,
   "metadata": {},
   "outputs": [
    {
     "name": "stdout",
     "output_type": "stream",
     "text": [
      "               color   name  height_cm\n",
      "date_of_birth                         \n",
      "2014-09-01      Gray  Riley         49\n",
      "2015-04-20     Brown  Bella         18\n",
      "2015-08-25     Black   Lola         18\n"
     ]
    }
   ],
   "source": [
    "print(dogs.iloc[2:5, 1:4]) "
   ]
  },
  {
   "attachments": {},
   "cell_type": "markdown",
   "metadata": {},
   "source": [
    "# Pivot Tables"
   ]
  },
  {
   "cell_type": "code",
   "execution_count": 30,
   "metadata": {},
   "outputs": [
    {
     "name": "stdout",
     "output_type": "stream",
     "text": [
      "color      Black  Brown  Chocolate  Gray  White  Yellow\n",
      "breed                                                  \n",
      "Chihuahua   18.0   18.0        NaN   NaN    NaN     NaN\n",
      "Chow Chow    NaN   46.0        NaN   NaN    NaN     NaN\n",
      "Labrador    56.0    NaN       56.0   NaN    NaN    59.0\n",
      "Poodle       NaN    NaN        NaN   NaN   43.0     NaN\n",
      "Schnauzer    NaN    NaN        NaN  49.0    NaN     NaN\n"
     ]
    }
   ],
   "source": [
    "dogs_height_by_breed_vs_color = dogs.pivot_table(\"height_cm\", index=\"breed\", columns=\"color\")\n",
    "print(dogs_height_by_breed_vs_color)"
   ]
  },
  {
   "cell_type": "code",
   "execution_count": null,
   "metadata": {},
   "outputs": [],
   "source": []
  }
 ],
 "metadata": {
  "kernelspec": {
   "display_name": "base",
   "language": "python",
   "name": "python3"
  },
  "language_info": {
   "codemirror_mode": {
    "name": "ipython",
    "version": 3
   },
   "file_extension": ".py",
   "mimetype": "text/x-python",
   "name": "python",
   "nbconvert_exporter": "python",
   "pygments_lexer": "ipython3",
   "version": "3.9.16"
  },
  "orig_nbformat": 4
 },
 "nbformat": 4,
 "nbformat_minor": 2
}
