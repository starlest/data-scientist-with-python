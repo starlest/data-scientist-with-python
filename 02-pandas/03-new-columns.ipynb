{
 "cells": [
  {
   "cell_type": "code",
   "execution_count": 1,
   "metadata": {},
   "outputs": [],
   "source": [
    "import pandas as pd\n",
    "\n",
    "dogs_dict = {\n",
    "    'breed': ['Labrador', 'Poodle', 'Chow Chow', 'Schnauzer', 'Labrador', 'Chihuahua', 'Poodle', 'Chihuahua', 'Labrador', 'Labrador'],\n",
    "    'color': ['Chocolate', 'White', 'Brown', 'Gray', 'Black', 'Brown', 'White', 'Black', 'Yellow', 'Black'],\n",
    "    'name': ['Buddy', 'Lucy', 'Cooper', 'Riley', 'Bear', 'Bella', 'Daisy', 'Lola', 'Max', 'Stella'],\n",
    "    'height_cm': [56, 43, 46, 49, 56, 18, 43, 18, 59, 56],\n",
    "    'weight_kg': [25, 6, 23, 17, 29, 2, 7, 2, 29, 29],\n",
    "    'date_of_birth': ['2013-07-01', '2016-10-11', '2011-10-12', '2014-09-01', '2017-01-20', '2015-04-20', '2017-01-20', '2015-08-25', '2017-01-20', '2017-10-05']\n",
    "}\n",
    "\n",
    "dogs = pd.DataFrame(dogs_dict)"
   ]
  },
  {
   "cell_type": "code",
   "execution_count": 2,
   "metadata": {},
   "outputs": [
    {
     "name": "stdout",
     "output_type": "stream",
     "text": [
      "       breed      color    name  height_cm  weight_kg date_of_birth  height_m\n",
      "0   Labrador  Chocolate   Buddy         56         25    2013-07-01      0.56\n",
      "1     Poodle      White    Lucy         43          6    2016-10-11      0.43\n",
      "2  Chow Chow      Brown  Cooper         46         23    2011-10-12      0.46\n",
      "3  Schnauzer       Gray   Riley         49         17    2014-09-01      0.49\n",
      "4   Labrador      Black    Bear         56         29    2017-01-20      0.56\n",
      "5  Chihuahua      Brown   Bella         18          2    2015-04-20      0.18\n",
      "6     Poodle      White   Daisy         43          7    2017-01-20      0.43\n",
      "7  Chihuahua      Black    Lola         18          2    2015-08-25      0.18\n",
      "8   Labrador     Yellow     Max         59         29    2017-01-20      0.59\n",
      "9   Labrador      Black  Stella         56         29    2017-10-05      0.56\n"
     ]
    }
   ],
   "source": [
    "dogs[\"height_m\"] = dogs[\"height_cm\"] / 100\n",
    "print(dogs)"
   ]
  },
  {
   "cell_type": "code",
   "execution_count": 5,
   "metadata": {},
   "outputs": [
    {
     "name": "stdout",
     "output_type": "stream",
     "text": [
      "       breed      color    name  height_cm  weight_kg date_of_birth  height_m  \\\n",
      "0   Labrador  Chocolate   Buddy         56         25    2013-07-01      0.56   \n",
      "1     Poodle      White    Lucy         43          6    2016-10-11      0.43   \n",
      "2  Chow Chow      Brown  Cooper         46         23    2011-10-12      0.46   \n",
      "3  Schnauzer       Gray   Riley         49         17    2014-09-01      0.49   \n",
      "4   Labrador      Black    Bear         56         29    2017-01-20      0.56   \n",
      "\n",
      "          bmi  \n",
      "0   79.719388  \n",
      "1   32.449973  \n",
      "2  108.695652  \n",
      "3   70.803832  \n",
      "4   92.474490  \n"
     ]
    }
   ],
   "source": [
    "dogs[\"bmi\"] = dogs[\"weight_kg\"] / dogs[\"height_m\"] ** 2\n",
    "print(dogs.head())"
   ]
  },
  {
   "cell_type": "code",
   "execution_count": 7,
   "metadata": {},
   "outputs": [
    {
     "data": {
      "text/html": [
       "<div>\n",
       "<style scoped>\n",
       "    .dataframe tbody tr th:only-of-type {\n",
       "        vertical-align: middle;\n",
       "    }\n",
       "\n",
       "    .dataframe tbody tr th {\n",
       "        vertical-align: top;\n",
       "    }\n",
       "\n",
       "    .dataframe thead th {\n",
       "        text-align: right;\n",
       "    }\n",
       "</style>\n",
       "<table border=\"1\" class=\"dataframe\">\n",
       "  <thead>\n",
       "    <tr style=\"text-align: right;\">\n",
       "      <th></th>\n",
       "      <th>name</th>\n",
       "      <th>height_cm</th>\n",
       "      <th>bmi</th>\n",
       "    </tr>\n",
       "  </thead>\n",
       "  <tbody>\n",
       "    <tr>\n",
       "      <th>8</th>\n",
       "      <td>Max</td>\n",
       "      <td>59</td>\n",
       "      <td>83.309394</td>\n",
       "    </tr>\n",
       "    <tr>\n",
       "      <th>0</th>\n",
       "      <td>Buddy</td>\n",
       "      <td>56</td>\n",
       "      <td>79.719388</td>\n",
       "    </tr>\n",
       "    <tr>\n",
       "      <th>4</th>\n",
       "      <td>Bear</td>\n",
       "      <td>56</td>\n",
       "      <td>92.474490</td>\n",
       "    </tr>\n",
       "    <tr>\n",
       "      <th>9</th>\n",
       "      <td>Stella</td>\n",
       "      <td>56</td>\n",
       "      <td>92.474490</td>\n",
       "    </tr>\n",
       "    <tr>\n",
       "      <th>3</th>\n",
       "      <td>Riley</td>\n",
       "      <td>49</td>\n",
       "      <td>70.803832</td>\n",
       "    </tr>\n",
       "    <tr>\n",
       "      <th>1</th>\n",
       "      <td>Lucy</td>\n",
       "      <td>43</td>\n",
       "      <td>32.449973</td>\n",
       "    </tr>\n",
       "    <tr>\n",
       "      <th>6</th>\n",
       "      <td>Daisy</td>\n",
       "      <td>43</td>\n",
       "      <td>37.858302</td>\n",
       "    </tr>\n",
       "    <tr>\n",
       "      <th>5</th>\n",
       "      <td>Bella</td>\n",
       "      <td>18</td>\n",
       "      <td>61.728395</td>\n",
       "    </tr>\n",
       "    <tr>\n",
       "      <th>7</th>\n",
       "      <td>Lola</td>\n",
       "      <td>18</td>\n",
       "      <td>61.728395</td>\n",
       "    </tr>\n",
       "  </tbody>\n",
       "</table>\n",
       "</div>"
      ],
      "text/plain": [
       "     name  height_cm        bmi\n",
       "8     Max         59  83.309394\n",
       "0   Buddy         56  79.719388\n",
       "4    Bear         56  92.474490\n",
       "9  Stella         56  92.474490\n",
       "3   Riley         49  70.803832\n",
       "1    Lucy         43  32.449973\n",
       "6   Daisy         43  37.858302\n",
       "5   Bella         18  61.728395\n",
       "7    Lola         18  61.728395"
      ]
     },
     "execution_count": 7,
     "metadata": {},
     "output_type": "execute_result"
    }
   ],
   "source": [
    "bmi_lt_100 = dogs[dogs[\"bmi\"] < 100]\n",
    "bmi_lt_100_height = bmi_lt_100.sort_values(\"height_cm\", ascending=False)\n",
    "bmi_lt_100_height[[\"name\", \"height_cm\", \"bmi\"]]"
   ]
  },
  {
   "cell_type": "code",
   "execution_count": null,
   "metadata": {},
   "outputs": [],
   "source": []
  }
 ],
 "metadata": {
  "kernelspec": {
   "display_name": "base",
   "language": "python",
   "name": "python3"
  },
  "language_info": {
   "codemirror_mode": {
    "name": "ipython",
    "version": 3
   },
   "file_extension": ".py",
   "mimetype": "text/x-python",
   "name": "python",
   "nbconvert_exporter": "python",
   "pygments_lexer": "ipython3",
   "version": "3.9.16"
  },
  "orig_nbformat": 4
 },
 "nbformat": 4,
 "nbformat_minor": 2
}
