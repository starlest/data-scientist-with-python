{
 "cells": [
  {
   "attachments": {},
   "cell_type": "markdown",
   "metadata": {},
   "source": [
    "# Dictionaries"
   ]
  },
  {
   "cell_type": "code",
   "execution_count": 6,
   "metadata": {},
   "outputs": [],
   "source": [
    "import pandas as pd"
   ]
  },
  {
   "cell_type": "code",
   "execution_count": 7,
   "metadata": {},
   "outputs": [],
   "source": [
    "my_dict = {\n",
    "    \"title\": \"Charlotte's Web\",\n",
    "    \"author\": \"E.B. White\",\n",
    "    \"published\": 1952,\n",
    "}"
   ]
  },
  {
   "cell_type": "code",
   "execution_count": 8,
   "metadata": {},
   "outputs": [
    {
     "data": {
      "text/plain": [
       "\"Charlotte's Web\""
      ]
     },
     "execution_count": 8,
     "metadata": {},
     "output_type": "execute_result"
    }
   ],
   "source": [
    "my_dict[\"title\"]"
   ]
  },
  {
   "attachments": {},
   "cell_type": "markdown",
   "metadata": {},
   "source": [
    "## From a list of dictionaries (row by row)"
   ]
  },
  {
   "cell_type": "code",
   "execution_count": 9,
   "metadata": {},
   "outputs": [],
   "source": [
    "list_of_dicts = [\n",
    "    {\"name\": \"Ginger\", \"breed\": \"Dachshund\", \"height_cm\": 22, \"weight_kg\": 10, \"date_of_birth\": \"2019-03-14\"},\n",
    "    {\"name\": \"Scout\", \"breed\": \"Dalmatian\", \"height_cm\": 59, \"weight_kg\": 25, \"date_of_birth\": \"2019-05-09\"},\n",
    "]"
   ]
  },
  {
   "cell_type": "code",
   "execution_count": 10,
   "metadata": {},
   "outputs": [
    {
     "name": "stdout",
     "output_type": "stream",
     "text": [
      "     name      breed  height_cm  weight_kg date_of_birth\n",
      "0  Ginger  Dachshund         22         10    2019-03-14\n",
      "1   Scout  Dalmatian         59         25    2019-05-09\n"
     ]
    }
   ],
   "source": [
    "new_dogs = pd.DataFrame(list_of_dicts)\n",
    "print(new_dogs)"
   ]
  },
  {
   "attachments": {},
   "cell_type": "markdown",
   "metadata": {},
   "source": [
    "## From a dictionary of lists (column by column)"
   ]
  },
  {
   "cell_type": "code",
   "execution_count": 11,
   "metadata": {},
   "outputs": [],
   "source": [
    "dict_of_lists = {\n",
    "    \"name\": [\"Ginger\", \"Scout\"],\n",
    "    \"height_cm\": [22, 59],\n",
    "    \"weight_kg\": [10, 25],\n",
    "    \"breed\": [\"Dachshund\", \"Dalmatian\"],\n",
    "    \"date_of_birth\": [\"2019-03-14\", \"2019-05-09\"],\n",
    "}"
   ]
  },
  {
   "cell_type": "code",
   "execution_count": 12,
   "metadata": {},
   "outputs": [
    {
     "name": "stdout",
     "output_type": "stream",
     "text": [
      "     name  height_cm  weight_kg      breed date_of_birth\n",
      "0  Ginger         22         10  Dachshund    2019-03-14\n",
      "1   Scout         59         25  Dalmatian    2019-05-09\n"
     ]
    }
   ],
   "source": [
    "new_dogs = pd.DataFrame(dict_of_lists)\n",
    "print(new_dogs)"
   ]
  },
  {
   "cell_type": "code",
   "execution_count": null,
   "metadata": {},
   "outputs": [],
   "source": [
    "avocados_list = [\n",
    "    {\"date\": \"2019-11-03\", \"small_sold\": 10376832, \"large_sold\": 7835071},\n",
    "    {\"date\": \"2019-11-10\", \"small_sold\": 10717154, \"large_sold\": 8561348},\n",
    "]"
   ]
  },
  {
   "attachments": {},
   "cell_type": "markdown",
   "metadata": {},
   "source": [
    "# Reading and writing CSVs"
   ]
  },
  {
   "cell_type": "markdown",
   "metadata": {},
   "source": []
  }
 ],
 "metadata": {
  "kernelspec": {
   "display_name": "base",
   "language": "python",
   "name": "python3"
  },
  "language_info": {
   "codemirror_mode": {
    "name": "ipython",
    "version": 3
   },
   "file_extension": ".py",
   "mimetype": "text/x-python",
   "name": "python",
   "nbconvert_exporter": "python",
   "pygments_lexer": "ipython3",
   "version": "3.9.16"
  },
  "orig_nbformat": 4
 },
 "nbformat": 4,
 "nbformat_minor": 2
}
