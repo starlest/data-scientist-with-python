{
 "cells": [
  {
   "attachments": {},
   "cell_type": "markdown",
   "metadata": {},
   "source": [
    "# Functions\n",
    "\n",
    "- Piece of resuable code\n",
    "- Solves particular task\n",
    "- Use `help` to find out more on how to use built-in functions. e.g. `help(max)`\n",
    "- Methods: call functions on objects e.g. `list.index('hi')`\n"
   ]
  },
  {
   "attachments": {},
   "cell_type": "markdown",
   "metadata": {},
   "source": [
    "## Packages\n",
    "\n",
    "- Directory of Python scripts\n",
    "- Each script is a module\n",
    "- Specify functions, methods, types\n",
    "- Thousands of packages avilable: NumPy, Matplotlib, scikit-learn\n"
   ]
  },
  {
   "attachments": {},
   "cell_type": "markdown",
   "metadata": {},
   "source": [
    "## Importing"
   ]
  },
  {
   "cell_type": "code",
   "execution_count": 1,
   "metadata": {},
   "outputs": [
    {
     "data": {
      "text/plain": [
       "array(['liz', '1.73', 'emma', '1.68', 'mom', '1.71', 'dad', '1.89'],\n",
       "      dtype='<U32')"
      ]
     },
     "execution_count": 1,
     "metadata": {},
     "output_type": "execute_result"
    }
   ],
   "source": [
    "import numpy as np\n",
    "\n",
    "fam = [\"liz\", 1.73,\n",
    "       \"emma\", 1.68,\n",
    "       \"mom\", 1.71,\n",
    "       \"dad\", 1.89]\n",
    "np_fam = np.array(fam)\n",
    "np_fam\n"
   ]
  },
  {
   "cell_type": "code",
   "execution_count": 3,
   "metadata": {},
   "outputs": [
    {
     "data": {
      "text/plain": [
       "40317.10572106901"
      ]
     },
     "execution_count": 3,
     "metadata": {},
     "output_type": "execute_result"
    }
   ],
   "source": [
    "# selective import\n",
    "from math import radians\n",
    "r = 192500\n",
    "dist = r * radians(12)\n",
    "dist"
   ]
  }
 ],
 "metadata": {
  "kernelspec": {
   "display_name": "base",
   "language": "python",
   "name": "python3"
  },
  "language_info": {
   "codemirror_mode": {
    "name": "ipython",
    "version": 3
   },
   "file_extension": ".py",
   "mimetype": "text/x-python",
   "name": "python",
   "nbconvert_exporter": "python",
   "pygments_lexer": "ipython3",
   "version": "3.9.16"
  },
  "orig_nbformat": 4
 },
 "nbformat": 4,
 "nbformat_minor": 2
}
